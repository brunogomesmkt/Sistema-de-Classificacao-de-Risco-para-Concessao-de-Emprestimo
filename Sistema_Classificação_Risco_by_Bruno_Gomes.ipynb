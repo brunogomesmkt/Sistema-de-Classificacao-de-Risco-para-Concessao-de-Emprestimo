{
  "nbformat": 4,
  "nbformat_minor": 0,
  "metadata": {
    "colab": {
      "name": "Sistema_Classificação_Risco by Bruno Gomes.ipynb",
      "provenance": [],
      "authorship_tag": "ABX9TyN7Wmqi/6cZz/ajqqzBDnJ4",
      "include_colab_link": true
    },
    "kernelspec": {
      "name": "python3",
      "display_name": "Python 3"
    }
  },
  "cells": [
    {
      "cell_type": "markdown",
      "metadata": {
        "id": "view-in-github",
        "colab_type": "text"
      },
      "source": [
        "<a href=\"https://colab.research.google.com/github/brunogomesmkt/Sistema-de-Classificacao-de-Risco-para-Concessao-de-Emprestimo/blob/main/Sistema_Classifica%C3%A7%C3%A3o_Risco_by_Bruno_Gomes.ipynb\" target=\"_parent\"><img src=\"https://colab.research.google.com/assets/colab-badge.svg\" alt=\"Open In Colab\"/></a>"
      ]
    },
    {
      "cell_type": "markdown",
      "metadata": {
        "id": "6YXHFMJr9e1C"
      },
      "source": [
        "**Sistema de Classificação de Risco para Concessão de Empréstimo**\n",
        "\n"
      ]
    },
    {
      "cell_type": "markdown",
      "metadata": {
        "id": "sv_PwGGY0BLJ"
      },
      "source": [
        "**Análise Exploratória dos Dados**"
      ]
    },
    {
      "cell_type": "code",
      "metadata": {
        "id": "zFoTAAAjzvOG"
      },
      "source": [
        "import pandas as pd\n",
        "import numpy as np\n",
        "import matplotlib.pyplot as plt\n",
        "import seaborn as sns\n",
        "from sklearn.model_selection import train_test_split\n",
        "from sklearn.neighbors import KNeighborsClassifier\n",
        "from sklearn import metrics\n",
        "\n"
      ],
      "execution_count": null,
      "outputs": []
    },
    {
      "cell_type": "code",
      "metadata": {
        "id": "6WXrgXId0Dc4"
      },
      "source": [
        "dataset = pd.read_csv('/content/risco.csv')"
      ],
      "execution_count": null,
      "outputs": []
    },
    {
      "cell_type": "code",
      "metadata": {
        "colab": {
          "base_uri": "https://localhost:8080/",
          "height": 173
        },
        "id": "9X7BUxPu2I3u",
        "outputId": "4acc0cc0-e3c3-495e-be21-6f2eaa10ba48"
      },
      "source": [
        "dataset.head(4)"
      ],
      "execution_count": null,
      "outputs": [
        {
          "output_type": "execute_result",
          "data": {
            "text/html": [
              "<div>\n",
              "<style scoped>\n",
              "    .dataframe tbody tr th:only-of-type {\n",
              "        vertical-align: middle;\n",
              "    }\n",
              "\n",
              "    .dataframe tbody tr th {\n",
              "        vertical-align: top;\n",
              "    }\n",
              "\n",
              "    .dataframe thead th {\n",
              "        text-align: right;\n",
              "    }\n",
              "</style>\n",
              "<table border=\"1\" class=\"dataframe\">\n",
              "  <thead>\n",
              "    <tr style=\"text-align: right;\">\n",
              "      <th></th>\n",
              "      <th>id_cliente</th>\n",
              "      <th>anot_cadastrais</th>\n",
              "      <th>indice_inad</th>\n",
              "      <th>class_renda</th>\n",
              "      <th>saldo_contas</th>\n",
              "      <th>Risco</th>\n",
              "    </tr>\n",
              "  </thead>\n",
              "  <tbody>\n",
              "    <tr>\n",
              "      <th>0</th>\n",
              "      <td>0</td>\n",
              "      <td>5.1</td>\n",
              "      <td>3.5</td>\n",
              "      <td>1.4</td>\n",
              "      <td>0.2</td>\n",
              "      <td>Risco_Alto</td>\n",
              "    </tr>\n",
              "    <tr>\n",
              "      <th>1</th>\n",
              "      <td>1</td>\n",
              "      <td>4.9</td>\n",
              "      <td>3.0</td>\n",
              "      <td>1.4</td>\n",
              "      <td>0.2</td>\n",
              "      <td>Risco_Alto</td>\n",
              "    </tr>\n",
              "    <tr>\n",
              "      <th>2</th>\n",
              "      <td>2</td>\n",
              "      <td>4.7</td>\n",
              "      <td>3.2</td>\n",
              "      <td>1.3</td>\n",
              "      <td>0.2</td>\n",
              "      <td>Risco_Alto</td>\n",
              "    </tr>\n",
              "    <tr>\n",
              "      <th>3</th>\n",
              "      <td>3</td>\n",
              "      <td>4.6</td>\n",
              "      <td>3.1</td>\n",
              "      <td>1.5</td>\n",
              "      <td>0.2</td>\n",
              "      <td>Risco_Alto</td>\n",
              "    </tr>\n",
              "  </tbody>\n",
              "</table>\n",
              "</div>"
            ],
            "text/plain": [
              "   id_cliente  anot_cadastrais  ...  saldo_contas       Risco\n",
              "0           0              5.1  ...           0.2  Risco_Alto\n",
              "1           1              4.9  ...           0.2  Risco_Alto\n",
              "2           2              4.7  ...           0.2  Risco_Alto\n",
              "3           3              4.6  ...           0.2  Risco_Alto\n",
              "\n",
              "[4 rows x 6 columns]"
            ]
          },
          "metadata": {
            "tags": []
          },
          "execution_count": 6
        }
      ]
    },
    {
      "cell_type": "code",
      "metadata": {
        "colab": {
          "base_uri": "https://localhost:8080/"
        },
        "id": "ypUHJsUY2Un1",
        "outputId": "3a09ff86-a9fe-449f-e255-f35650f6a487"
      },
      "source": [
        "dataset.info()"
      ],
      "execution_count": null,
      "outputs": [
        {
          "output_type": "stream",
          "text": [
            "<class 'pandas.core.frame.DataFrame'>\n",
            "RangeIndex: 150 entries, 0 to 149\n",
            "Data columns (total 6 columns):\n",
            " #   Column           Non-Null Count  Dtype  \n",
            "---  ------           --------------  -----  \n",
            " 0   id_cliente       150 non-null    int64  \n",
            " 1   anot_cadastrais  150 non-null    float64\n",
            " 2   indice_inad      150 non-null    float64\n",
            " 3   class_renda      150 non-null    float64\n",
            " 4   saldo_contas     150 non-null    float64\n",
            " 5   Risco            150 non-null    object \n",
            "dtypes: float64(4), int64(1), object(1)\n",
            "memory usage: 7.2+ KB\n"
          ],
          "name": "stdout"
        }
      ]
    },
    {
      "cell_type": "code",
      "metadata": {
        "colab": {
          "base_uri": "https://localhost:8080/"
        },
        "id": "JkiV3mYf2v0N",
        "outputId": "4f8774ff-194e-4453-9f5f-aaa80a17c185"
      },
      "source": [
        "dataset.shape"
      ],
      "execution_count": null,
      "outputs": [
        {
          "output_type": "execute_result",
          "data": {
            "text/plain": [
              "(150, 6)"
            ]
          },
          "metadata": {
            "tags": []
          },
          "execution_count": 8
        }
      ]
    },
    {
      "cell_type": "code",
      "metadata": {
        "colab": {
          "base_uri": "https://localhost:8080/"
        },
        "id": "hcrflv5V3AVU",
        "outputId": "3a13539d-72f2-4496-b110-2ffb5309c4a2"
      },
      "source": [
        "print(f'O Dataset tem {dataset.shape[0]} linhas e {dataset.shape[1]} colunas.')"
      ],
      "execution_count": null,
      "outputs": [
        {
          "output_type": "stream",
          "text": [
            "O Dataset tem 150 linhas e 6 colunas.\n"
          ],
          "name": "stdout"
        }
      ]
    },
    {
      "cell_type": "markdown",
      "metadata": {
        "id": "Lb8s6jc14Hmb"
      },
      "source": [
        "**TABELA DE FREQUÊNCIA DE VARIÁVEL \"RISCO\"**"
      ]
    },
    {
      "cell_type": "code",
      "metadata": {
        "colab": {
          "base_uri": "https://localhost:8080/",
          "height": 297
        },
        "id": "nZYSvaYr3Z_z",
        "outputId": "16f96f23-5f5b-4530-e3e2-407bd92502bc"
      },
      "source": [
        "dataset.describe()"
      ],
      "execution_count": null,
      "outputs": [
        {
          "output_type": "execute_result",
          "data": {
            "text/html": [
              "<div>\n",
              "<style scoped>\n",
              "    .dataframe tbody tr th:only-of-type {\n",
              "        vertical-align: middle;\n",
              "    }\n",
              "\n",
              "    .dataframe tbody tr th {\n",
              "        vertical-align: top;\n",
              "    }\n",
              "\n",
              "    .dataframe thead th {\n",
              "        text-align: right;\n",
              "    }\n",
              "</style>\n",
              "<table border=\"1\" class=\"dataframe\">\n",
              "  <thead>\n",
              "    <tr style=\"text-align: right;\">\n",
              "      <th></th>\n",
              "      <th>id_cliente</th>\n",
              "      <th>anot_cadastrais</th>\n",
              "      <th>indice_inad</th>\n",
              "      <th>class_renda</th>\n",
              "      <th>saldo_contas</th>\n",
              "    </tr>\n",
              "  </thead>\n",
              "  <tbody>\n",
              "    <tr>\n",
              "      <th>count</th>\n",
              "      <td>150.000000</td>\n",
              "      <td>150.000000</td>\n",
              "      <td>150.000000</td>\n",
              "      <td>150.000000</td>\n",
              "      <td>150.000000</td>\n",
              "    </tr>\n",
              "    <tr>\n",
              "      <th>mean</th>\n",
              "      <td>74.500000</td>\n",
              "      <td>5.843333</td>\n",
              "      <td>3.054000</td>\n",
              "      <td>3.758667</td>\n",
              "      <td>1.198667</td>\n",
              "    </tr>\n",
              "    <tr>\n",
              "      <th>std</th>\n",
              "      <td>43.445368</td>\n",
              "      <td>0.828066</td>\n",
              "      <td>0.433594</td>\n",
              "      <td>1.764420</td>\n",
              "      <td>0.763161</td>\n",
              "    </tr>\n",
              "    <tr>\n",
              "      <th>min</th>\n",
              "      <td>0.000000</td>\n",
              "      <td>4.300000</td>\n",
              "      <td>2.000000</td>\n",
              "      <td>1.000000</td>\n",
              "      <td>0.100000</td>\n",
              "    </tr>\n",
              "    <tr>\n",
              "      <th>25%</th>\n",
              "      <td>37.250000</td>\n",
              "      <td>5.100000</td>\n",
              "      <td>2.800000</td>\n",
              "      <td>1.600000</td>\n",
              "      <td>0.300000</td>\n",
              "    </tr>\n",
              "    <tr>\n",
              "      <th>50%</th>\n",
              "      <td>74.500000</td>\n",
              "      <td>5.800000</td>\n",
              "      <td>3.000000</td>\n",
              "      <td>4.350000</td>\n",
              "      <td>1.300000</td>\n",
              "    </tr>\n",
              "    <tr>\n",
              "      <th>75%</th>\n",
              "      <td>111.750000</td>\n",
              "      <td>6.400000</td>\n",
              "      <td>3.300000</td>\n",
              "      <td>5.100000</td>\n",
              "      <td>1.800000</td>\n",
              "    </tr>\n",
              "    <tr>\n",
              "      <th>max</th>\n",
              "      <td>149.000000</td>\n",
              "      <td>7.900000</td>\n",
              "      <td>4.400000</td>\n",
              "      <td>6.900000</td>\n",
              "      <td>2.500000</td>\n",
              "    </tr>\n",
              "  </tbody>\n",
              "</table>\n",
              "</div>"
            ],
            "text/plain": [
              "       id_cliente  anot_cadastrais  indice_inad  class_renda  saldo_contas\n",
              "count  150.000000       150.000000   150.000000   150.000000    150.000000\n",
              "mean    74.500000         5.843333     3.054000     3.758667      1.198667\n",
              "std     43.445368         0.828066     0.433594     1.764420      0.763161\n",
              "min      0.000000         4.300000     2.000000     1.000000      0.100000\n",
              "25%     37.250000         5.100000     2.800000     1.600000      0.300000\n",
              "50%     74.500000         5.800000     3.000000     4.350000      1.300000\n",
              "75%    111.750000         6.400000     3.300000     5.100000      1.800000\n",
              "max    149.000000         7.900000     4.400000     6.900000      2.500000"
            ]
          },
          "metadata": {
            "tags": []
          },
          "execution_count": 10
        }
      ]
    },
    {
      "cell_type": "code",
      "metadata": {
        "colab": {
          "base_uri": "https://localhost:8080/"
        },
        "id": "YRlfSR1Z3ppd",
        "outputId": "9a964925-a94b-49f3-f8c0-3d03130fac5c"
      },
      "source": [
        "dataset['Risco'].value_counts()"
      ],
      "execution_count": null,
      "outputs": [
        {
          "output_type": "execute_result",
          "data": {
            "text/plain": [
              "Risco_Medio    50\n",
              "Risco_Baixo    50\n",
              "Risco_Alto     50\n",
              "Name: Risco, dtype: int64"
            ]
          },
          "metadata": {
            "tags": []
          },
          "execution_count": 11
        }
      ]
    },
    {
      "cell_type": "markdown",
      "metadata": {
        "id": "3qF91wrq4vDS"
      },
      "source": [
        "**OUTRA FORMA DE CRIAR TABELA DE FRQUÊNCIA**"
      ]
    },
    {
      "cell_type": "code",
      "metadata": {
        "colab": {
          "base_uri": "https://localhost:8080/"
        },
        "id": "XUxPIyoh4CTY",
        "outputId": "e95927d9-4ff5-4e67-a752-711f86236160"
      },
      "source": [
        "dataset.Risco.value_counts()"
      ],
      "execution_count": null,
      "outputs": [
        {
          "output_type": "execute_result",
          "data": {
            "text/plain": [
              "Risco_Medio    50\n",
              "Risco_Baixo    50\n",
              "Risco_Alto     50\n",
              "Name: Risco, dtype: int64"
            ]
          },
          "metadata": {
            "tags": []
          },
          "execution_count": 14
        }
      ]
    },
    {
      "cell_type": "markdown",
      "metadata": {
        "id": "6HaCewyf5kW5"
      },
      "source": [
        "CRIAR UM GRÁFICO DE BARRAS DA VARIAVEL TARGET"
      ]
    },
    {
      "cell_type": "code",
      "metadata": {
        "colab": {
          "base_uri": "https://localhost:8080/",
          "height": 351
        },
        "id": "HlH-ssnz46I6",
        "outputId": "04630b45-7bff-479d-bebb-244d5d4c1b87"
      },
      "source": [
        "sns.countplot(dataset['Risco'])"
      ],
      "execution_count": null,
      "outputs": [
        {
          "output_type": "stream",
          "text": [
            "/usr/local/lib/python3.6/dist-packages/seaborn/_decorators.py:43: FutureWarning: Pass the following variable as a keyword arg: x. From version 0.12, the only valid positional argument will be `data`, and passing other arguments without an explicit keyword will result in an error or misinterpretation.\n",
            "  FutureWarning\n"
          ],
          "name": "stderr"
        },
        {
          "output_type": "execute_result",
          "data": {
            "text/plain": [
              "<matplotlib.axes._subplots.AxesSubplot at 0x7f756b165748>"
            ]
          },
          "metadata": {
            "tags": []
          },
          "execution_count": 15
        },
        {
          "output_type": "display_data",
          "data": {
            "image/png": "[encoded data removed]",
            "text/plain": [
              "<Figure size 432x288 with 1 Axes>"
            ]
          },
          "metadata": {
            "tags": [],
            "needs_background": "light"
          }
        }
      ]
    },
    {
      "cell_type": "markdown",
      "metadata": {
        "id": "_Ntn3hU25tji"
      },
      "source": [
        "**VERIFICAR SE TEM VALORES AUSENTES CHECK FOR MISSING VALUES**"
      ]
    },
    {
      "cell_type": "code",
      "metadata": {
        "colab": {
          "base_uri": "https://localhost:8080/"
        },
        "id": "zYMEVON551Hh",
        "outputId": "0f74725d-7f4f-4eca-d877-230626062b74"
      },
      "source": [
        "dataset.isna().sum()"
      ],
      "execution_count": null,
      "outputs": [
        {
          "output_type": "execute_result",
          "data": {
            "text/plain": [
              "id_cliente         0\n",
              "anot_cadastrais    0\n",
              "indice_inad        0\n",
              "class_renda        0\n",
              "saldo_contas       0\n",
              "Risco              0\n",
              "dtype: int64"
            ]
          },
          "metadata": {
            "tags": []
          },
          "execution_count": 16
        }
      ]
    },
    {
      "cell_type": "markdown",
      "metadata": {
        "id": "rwIAyK9G5_Tg"
      },
      "source": [
        "**ELIMINAR COLUNAS SEM UTILIDADE**"
      ]
    },
    {
      "cell_type": "code",
      "metadata": {
        "id": "bjVWfenN57hx"
      },
      "source": [
        "dataset = dataset.drop(columns='id_cliente')"
      ],
      "execution_count": null,
      "outputs": []
    },
    {
      "cell_type": "code",
      "metadata": {
        "colab": {
          "base_uri": "https://localhost:8080/",
          "height": 419
        },
        "id": "JWvQWKKm6NNe",
        "outputId": "e1526f53-4dbe-4455-c90c-8dd4dd2b4380"
      },
      "source": [
        "dataset"
      ],
      "execution_count": null,
      "outputs": [
        {
          "output_type": "execute_result",
          "data": {
            "text/html": [
              "<div>\n",
              "<style scoped>\n",
              "    .dataframe tbody tr th:only-of-type {\n",
              "        vertical-align: middle;\n",
              "    }\n",
              "\n",
              "    .dataframe tbody tr th {\n",
              "        vertical-align: top;\n",
              "    }\n",
              "\n",
              "    .dataframe thead th {\n",
              "        text-align: right;\n",
              "    }\n",
              "</style>\n",
              "<table border=\"1\" class=\"dataframe\">\n",
              "  <thead>\n",
              "    <tr style=\"text-align: right;\">\n",
              "      <th></th>\n",
              "      <th>anot_cadastrais</th>\n",
              "      <th>indice_inad</th>\n",
              "      <th>class_renda</th>\n",
              "      <th>saldo_contas</th>\n",
              "      <th>Risco</th>\n",
              "    </tr>\n",
              "  </thead>\n",
              "  <tbody>\n",
              "    <tr>\n",
              "      <th>0</th>\n",
              "      <td>5.1</td>\n",
              "      <td>3.5</td>\n",
              "      <td>1.4</td>\n",
              "      <td>0.2</td>\n",
              "      <td>Risco_Alto</td>\n",
              "    </tr>\n",
              "    <tr>\n",
              "      <th>1</th>\n",
              "      <td>4.9</td>\n",
              "      <td>3.0</td>\n",
              "      <td>1.4</td>\n",
              "      <td>0.2</td>\n",
              "      <td>Risco_Alto</td>\n",
              "    </tr>\n",
              "    <tr>\n",
              "      <th>2</th>\n",
              "      <td>4.7</td>\n",
              "      <td>3.2</td>\n",
              "      <td>1.3</td>\n",
              "      <td>0.2</td>\n",
              "      <td>Risco_Alto</td>\n",
              "    </tr>\n",
              "    <tr>\n",
              "      <th>3</th>\n",
              "      <td>4.6</td>\n",
              "      <td>3.1</td>\n",
              "      <td>1.5</td>\n",
              "      <td>0.2</td>\n",
              "      <td>Risco_Alto</td>\n",
              "    </tr>\n",
              "    <tr>\n",
              "      <th>4</th>\n",
              "      <td>5.0</td>\n",
              "      <td>3.6</td>\n",
              "      <td>1.4</td>\n",
              "      <td>0.2</td>\n",
              "      <td>Risco_Alto</td>\n",
              "    </tr>\n",
              "    <tr>\n",
              "      <th>...</th>\n",
              "      <td>...</td>\n",
              "      <td>...</td>\n",
              "      <td>...</td>\n",
              "      <td>...</td>\n",
              "      <td>...</td>\n",
              "    </tr>\n",
              "    <tr>\n",
              "      <th>145</th>\n",
              "      <td>6.7</td>\n",
              "      <td>3.0</td>\n",
              "      <td>5.2</td>\n",
              "      <td>2.3</td>\n",
              "      <td>Risco_Baixo</td>\n",
              "    </tr>\n",
              "    <tr>\n",
              "      <th>146</th>\n",
              "      <td>6.3</td>\n",
              "      <td>2.5</td>\n",
              "      <td>5.0</td>\n",
              "      <td>1.9</td>\n",
              "      <td>Risco_Baixo</td>\n",
              "    </tr>\n",
              "    <tr>\n",
              "      <th>147</th>\n",
              "      <td>6.5</td>\n",
              "      <td>3.0</td>\n",
              "      <td>5.2</td>\n",
              "      <td>2.0</td>\n",
              "      <td>Risco_Baixo</td>\n",
              "    </tr>\n",
              "    <tr>\n",
              "      <th>148</th>\n",
              "      <td>6.2</td>\n",
              "      <td>3.4</td>\n",
              "      <td>5.4</td>\n",
              "      <td>2.3</td>\n",
              "      <td>Risco_Baixo</td>\n",
              "    </tr>\n",
              "    <tr>\n",
              "      <th>149</th>\n",
              "      <td>5.9</td>\n",
              "      <td>3.0</td>\n",
              "      <td>5.1</td>\n",
              "      <td>1.8</td>\n",
              "      <td>Risco_Baixo</td>\n",
              "    </tr>\n",
              "  </tbody>\n",
              "</table>\n",
              "<p>150 rows × 5 columns</p>\n",
              "</div>"
            ],
            "text/plain": [
              "     anot_cadastrais  indice_inad  class_renda  saldo_contas        Risco\n",
              "0                5.1          3.5          1.4           0.2   Risco_Alto\n",
              "1                4.9          3.0          1.4           0.2   Risco_Alto\n",
              "2                4.7          3.2          1.3           0.2   Risco_Alto\n",
              "3                4.6          3.1          1.5           0.2   Risco_Alto\n",
              "4                5.0          3.6          1.4           0.2   Risco_Alto\n",
              "..               ...          ...          ...           ...          ...\n",
              "145              6.7          3.0          5.2           2.3  Risco_Baixo\n",
              "146              6.3          2.5          5.0           1.9  Risco_Baixo\n",
              "147              6.5          3.0          5.2           2.0  Risco_Baixo\n",
              "148              6.2          3.4          5.4           2.3  Risco_Baixo\n",
              "149              5.9          3.0          5.1           1.8  Risco_Baixo\n",
              "\n",
              "[150 rows x 5 columns]"
            ]
          },
          "metadata": {
            "tags": []
          },
          "execution_count": 18
        }
      ]
    },
    {
      "cell_type": "markdown",
      "metadata": {
        "id": "spK2FE4z-EVB"
      },
      "source": [
        "**GRÁFICO TIPO BOZX AND WHISKER (BOXPLOT)**"
      ]
    },
    {
      "cell_type": "code",
      "metadata": {
        "id": "FgGq-oKy6RR4",
        "colab": {
          "base_uri": "https://localhost:8080/",
          "height": 268
        },
        "outputId": "ec79a69c-4610-4bd4-dfe9-462765813b70"
      },
      "source": [
        "from matplotlib import pyplot\n",
        "dataset.plot(kind='box', subplots=True, layout= (2,3), sharex= False, sharey= False)\n",
        "pyplot.show()"
      ],
      "execution_count": null,
      "outputs": [
        {
          "output_type": "display_data",
          "data": {
            "image/png": "[encoded data removed]",
            "text/plain": [
              "<Figure size 432x288 with 6 Axes>"
            ]
          },
          "metadata": {
            "tags": [],
            "needs_background": "light"
          }
        }
      ]
    },
    {
      "cell_type": "markdown",
      "metadata": {
        "id": "Xo7BHzAz_hn6"
      },
      "source": [
        "**GRÁFICO DE HISTOHRAMA**"
      ]
    },
    {
      "cell_type": "code",
      "metadata": {
        "colab": {
          "base_uri": "https://localhost:8080/",
          "height": 281
        },
        "id": "RAGD_iBe_dgp",
        "outputId": "48d09e32-5698-46eb-9053-6577b6d005cb"
      },
      "source": [
        "dataset.hist()\n",
        "plt.show()"
      ],
      "execution_count": null,
      "outputs": [
        {
          "output_type": "display_data",
          "data": {
            "image/png": "[encoded data removed]",
            "text/plain": [
              "<Figure size 432x288 with 4 Axes>"
            ]
          },
          "metadata": {
            "tags": [],
            "needs_background": "light"
          }
        }
      ]
    },
    {
      "cell_type": "markdown",
      "metadata": {
        "id": "yKLEkqviADWa"
      },
      "source": [
        "**GRÁFICO DE DISPERSÃO (SCATTER)**"
      ]
    },
    {
      "cell_type": "code",
      "metadata": {
        "colab": {
          "base_uri": "https://localhost:8080/",
          "height": 743
        },
        "id": "j9VwgJ5zAMdx",
        "outputId": "5ff96cba-9be8-47f2-bdc9-311671b9a0ad"
      },
      "source": [
        "sns.pairplot(dataset, hue='Risco', kind=\"reg\")"
      ],
      "execution_count": null,
      "outputs": [
        {
          "output_type": "execute_result",
          "data": {
            "text/plain": [
              "<seaborn.axisgrid.PairGrid at 0x7f756a45ba90>"
            ]
          },
          "metadata": {
            "tags": []
          },
          "execution_count": 31
        },
        {
          "output_type": "display_data",
          "data": {
            "image/png": "[encoded data removed]",
            "text/plain": [
              "<Figure size 817.5x720 with 20 Axes>"
            ]
          },
          "metadata": {
            "tags": [],
            "needs_background": "light"
          }
        }
      ]
    },
    {
      "cell_type": "markdown",
      "metadata": {
        "id": "mJSzYogXBmEE"
      },
      "source": [
        "**GRÁFICO DE DISPERSÃO sem agregar pelo TARGET**"
      ]
    },
    {
      "cell_type": "code",
      "metadata": {
        "colab": {
          "base_uri": "https://localhost:8080/",
          "height": 743
        },
        "id": "JBD2ymBTBqeB",
        "outputId": "61b954a7-093f-4be6-d583-d96605b5e39b"
      },
      "source": [
        "sns.pairplot(dataset, kind= \"reg\")"
      ],
      "execution_count": null,
      "outputs": [
        {
          "output_type": "execute_result",
          "data": {
            "text/plain": [
              "<seaborn.axisgrid.PairGrid at 0x7f7560d49ba8>"
            ]
          },
          "metadata": {
            "tags": []
          },
          "execution_count": 32
        },
        {
          "output_type": "display_data",
          "data": {
            "image/png": "[encoded data removed]",
            "text/plain": [
              "<Figure size 720x720 with 20 Axes>"
            ]
          },
          "metadata": {
            "tags": [],
            "needs_background": "light"
          }
        }
      ]
    },
    {
      "cell_type": "code",
      "metadata": {
        "id": "T9qjTgI6B9QJ"
      },
      "source": [
        ""
      ],
      "execution_count": null,
      "outputs": []
    },
    {
      "cell_type": "markdown",
      "metadata": {
        "id": "EACOqeM4CNQL"
      },
      "source": [
        "**PROCESSAMENTO DE DADOS**"
      ]
    },
    {
      "cell_type": "markdown",
      "metadata": {
        "id": "J2fa_8yrCQ4D"
      },
      "source": [
        "Separando as variáveis de entrada e saída do modelo:"
      ]
    },
    {
      "cell_type": "code",
      "metadata": {
        "id": "LRUAi7ZfCQGJ"
      },
      "source": [
        ""
      ],
      "execution_count": null,
      "outputs": []
    },
    {
      "cell_type": "markdown",
      "metadata": {
        "id": "gIatIOjoCc1b"
      },
      "source": [
        "Variáveis Independentes"
      ]
    },
    {
      "cell_type": "code",
      "metadata": {
        "id": "FuZelN-bCWIh"
      },
      "source": [
        "X= dataset.iloc[:,:-1].values\n",
        "Y= dataset.iloc[:,-1].values"
      ],
      "execution_count": null,
      "outputs": []
    },
    {
      "cell_type": "code",
      "metadata": {
        "colab": {
          "base_uri": "https://localhost:8080/"
        },
        "id": "pCANRbJTC9bH",
        "outputId": "81ad90a3-f74d-416c-9ff4-e04988fd1d0b"
      },
      "source": [
        "print(\"\\nVariáveis de Entrada da avaliação:\\n\\n\", X[:3])\n",
        "print(\"\\nRisco - Variável a ser Predita :\\n\\n\", Y[:3])"
      ],
      "execution_count": null,
      "outputs": [
        {
          "output_type": "stream",
          "text": [
            "\n",
            "Variáveis de Entrada da avaliação:\n",
            "\n",
            " [[5.1 3.5 1.4 0.2]\n",
            " [4.9 3.  1.4 0.2]\n",
            " [4.7 3.2 1.3 0.2]]\n",
            "\n",
            "Risco - Variável a ser Predita :\n",
            "\n",
            " ['Risco_Alto' 'Risco_Alto' 'Risco_Alto']\n"
          ],
          "name": "stdout"
        }
      ]
    },
    {
      "cell_type": "code",
      "metadata": {
        "colab": {
          "base_uri": "https://localhost:8080/"
        },
        "id": "VN-c54PFDL3z",
        "outputId": "4ea343d3-b1a5-4a7c-ec27-35c419643ac5"
      },
      "source": [
        "X"
      ],
      "execution_count": null,
      "outputs": [
        {
          "output_type": "execute_result",
          "data": {
            "text/plain": [
              "array([[5.1, 3.5, 1.4, 0.2],\n",
              "       [4.9, 3. , 1.4, 0.2],\n",
              "       [4.7, 3.2, 1.3, 0.2],\n",
              "       [4.6, 3.1, 1.5, 0.2],\n",
              "       [5. , 3.6, 1.4, 0.2],\n",
              "       [5.4, 3.9, 1.7, 0.4],\n",
              "       [4.6, 3.4, 1.4, 0.3],\n",
              "       [5. , 3.4, 1.5, 0.2],\n",
              "       [4.4, 2.9, 1.4, 0.2],\n",
              "       [4.9, 3.1, 1.5, 0.1],\n",
              "       [5.4, 3.7, 1.5, 0.2],\n",
              "       [4.8, 3.4, 1.6, 0.2],\n",
              "       [4.8, 3. , 1.4, 0.1],\n",
              "       [4.3, 3. , 1.1, 0.1],\n",
              "       [5.8, 4. , 1.2, 0.2],\n",
              "       [5.7, 4.4, 1.5, 0.4],\n",
              "       [5.4, 3.9, 1.3, 0.4],\n",
              "       [5.1, 3.5, 1.4, 0.3],\n",
              "       [5.7, 3.8, 1.7, 0.3],\n",
              "       [5.1, 3.8, 1.5, 0.3],\n",
              "       [5.4, 3.4, 1.7, 0.2],\n",
              "       [5.1, 3.7, 1.5, 0.4],\n",
              "       [4.6, 3.6, 1. , 0.2],\n",
              "       [5.1, 3.3, 1.7, 0.5],\n",
              "       [4.8, 3.4, 1.9, 0.2],\n",
              "       [5. , 3. , 1.6, 0.2],\n",
              "       [5. , 3.4, 1.6, 0.4],\n",
              "       [5.2, 3.5, 1.5, 0.2],\n",
              "       [5.2, 3.4, 1.4, 0.2],\n",
              "       [4.7, 3.2, 1.6, 0.2],\n",
              "       [4.8, 3.1, 1.6, 0.2],\n",
              "       [5.4, 3.4, 1.5, 0.4],\n",
              "       [5.2, 4.1, 1.5, 0.1],\n",
              "       [5.5, 4.2, 1.4, 0.2],\n",
              "       [4.9, 3.1, 1.5, 0.1],\n",
              "       [5. , 3.2, 1.2, 0.2],\n",
              "       [5.5, 3.5, 1.3, 0.2],\n",
              "       [4.9, 3.1, 1.5, 0.1],\n",
              "       [4.4, 3. , 1.3, 0.2],\n",
              "       [5.1, 3.4, 1.5, 0.2],\n",
              "       [5. , 3.5, 1.3, 0.3],\n",
              "       [4.5, 2.3, 1.3, 0.3],\n",
              "       [4.4, 3.2, 1.3, 0.2],\n",
              "       [5. , 3.5, 1.6, 0.6],\n",
              "       [5.1, 3.8, 1.9, 0.4],\n",
              "       [4.8, 3. , 1.4, 0.3],\n",
              "       [5.1, 3.8, 1.6, 0.2],\n",
              "       [4.6, 3.2, 1.4, 0.2],\n",
              "       [5.3, 3.7, 1.5, 0.2],\n",
              "       [5. , 3.3, 1.4, 0.2],\n",
              "       [7. , 3.2, 4.7, 1.4],\n",
              "       [6.4, 3.2, 4.5, 1.5],\n",
              "       [6.9, 3.1, 4.9, 1.5],\n",
              "       [5.5, 2.3, 4. , 1.3],\n",
              "       [6.5, 2.8, 4.6, 1.5],\n",
              "       [5.7, 2.8, 4.5, 1.3],\n",
              "       [6.3, 3.3, 4.7, 1.6],\n",
              "       [4.9, 2.4, 3.3, 1. ],\n",
              "       [6.6, 2.9, 4.6, 1.3],\n",
              "       [5.2, 2.7, 3.9, 1.4],\n",
              "       [5. , 2. , 3.5, 1. ],\n",
              "       [5.9, 3. , 4.2, 1.5],\n",
              "       [6. , 2.2, 4. , 1. ],\n",
              "       [6.1, 2.9, 4.7, 1.4],\n",
              "       [5.6, 2.9, 3.6, 1.3],\n",
              "       [6.7, 3.1, 4.4, 1.4],\n",
              "       [5.6, 3. , 4.5, 1.5],\n",
              "       [5.8, 2.7, 4.1, 1. ],\n",
              "       [6.2, 2.2, 4.5, 1.5],\n",
              "       [5.6, 2.5, 3.9, 1.1],\n",
              "       [5.9, 3.2, 4.8, 1.8],\n",
              "       [6.1, 2.8, 4. , 1.3],\n",
              "       [6.3, 2.5, 4.9, 1.5],\n",
              "       [6.1, 2.8, 4.7, 1.2],\n",
              "       [6.4, 2.9, 4.3, 1.3],\n",
              "       [6.6, 3. , 4.4, 1.4],\n",
              "       [6.8, 2.8, 4.8, 1.4],\n",
              "       [6.7, 3. , 5. , 1.7],\n",
              "       [6. , 2.9, 4.5, 1.5],\n",
              "       [5.7, 2.6, 3.5, 1. ],\n",
              "       [5.5, 2.4, 3.8, 1.1],\n",
              "       [5.5, 2.4, 3.7, 1. ],\n",
              "       [5.8, 2.7, 3.9, 1.2],\n",
              "       [6. , 2.7, 5.1, 1.6],\n",
              "       [5.4, 3. , 4.5, 1.5],\n",
              "       [6. , 3.4, 4.5, 1.6],\n",
              "       [6.7, 3.1, 4.7, 1.5],\n",
              "       [6.3, 2.3, 4.4, 1.3],\n",
              "       [5.6, 3. , 4.1, 1.3],\n",
              "       [5.5, 2.5, 4. , 1.3],\n",
              "       [5.5, 2.6, 4.4, 1.2],\n",
              "       [6.1, 3. , 4.6, 1.4],\n",
              "       [5.8, 2.6, 4. , 1.2],\n",
              "       [5. , 2.3, 3.3, 1. ],\n",
              "       [5.6, 2.7, 4.2, 1.3],\n",
              "       [5.7, 3. , 4.2, 1.2],\n",
              "       [5.7, 2.9, 4.2, 1.3],\n",
              "       [6.2, 2.9, 4.3, 1.3],\n",
              "       [5.1, 2.5, 3. , 1.1],\n",
              "       [5.7, 2.8, 4.1, 1.3],\n",
              "       [6.3, 3.3, 6. , 2.5],\n",
              "       [5.8, 2.7, 5.1, 1.9],\n",
              "       [7.1, 3. , 5.9, 2.1],\n",
              "       [6.3, 2.9, 5.6, 1.8],\n",
              "       [6.5, 3. , 5.8, 2.2],\n",
              "       [7.6, 3. , 6.6, 2.1],\n",
              "       [4.9, 2.5, 4.5, 1.7],\n",
              "       [7.3, 2.9, 6.3, 1.8],\n",
              "       [6.7, 2.5, 5.8, 1.8],\n",
              "       [7.2, 3.6, 6.1, 2.5],\n",
              "       [6.5, 3.2, 5.1, 2. ],\n",
              "       [6.4, 2.7, 5.3, 1.9],\n",
              "       [6.8, 3. , 5.5, 2.1],\n",
              "       [5.7, 2.5, 5. , 2. ],\n",
              "       [5.8, 2.8, 5.1, 2.4],\n",
              "       [6.4, 3.2, 5.3, 2.3],\n",
              "       [6.5, 3. , 5.5, 1.8],\n",
              "       [7.7, 3.8, 6.7, 2.2],\n",
              "       [7.7, 2.6, 6.9, 2.3],\n",
              "       [6. , 2.2, 5. , 1.5],\n",
              "       [6.9, 3.2, 5.7, 2.3],\n",
              "       [5.6, 2.8, 4.9, 2. ],\n",
              "       [7.7, 2.8, 6.7, 2. ],\n",
              "       [6.3, 2.7, 4.9, 1.8],\n",
              "       [6.7, 3.3, 5.7, 2.1],\n",
              "       [7.2, 3.2, 6. , 1.8],\n",
              "       [6.2, 2.8, 4.8, 1.8],\n",
              "       [6.1, 3. , 4.9, 1.8],\n",
              "       [6.4, 2.8, 5.6, 2.1],\n",
              "       [7.2, 3. , 5.8, 1.6],\n",
              "       [7.4, 2.8, 6.1, 1.9],\n",
              "       [7.9, 3.8, 6.4, 2. ],\n",
              "       [6.4, 2.8, 5.6, 2.2],\n",
              "       [6.3, 2.8, 5.1, 1.5],\n",
              "       [6.1, 2.6, 5.6, 1.4],\n",
              "       [7.7, 3. , 6.1, 2.3],\n",
              "       [6.3, 3.4, 5.6, 2.4],\n",
              "       [6.4, 3.1, 5.5, 1.8],\n",
              "       [6. , 3. , 4.8, 1.8],\n",
              "       [6.9, 3.1, 5.4, 2.1],\n",
              "       [6.7, 3.1, 5.6, 2.4],\n",
              "       [6.9, 3.1, 5.1, 2.3],\n",
              "       [5.8, 2.7, 5.1, 1.9],\n",
              "       [6.8, 3.2, 5.9, 2.3],\n",
              "       [6.7, 3.3, 5.7, 2.5],\n",
              "       [6.7, 3. , 5.2, 2.3],\n",
              "       [6.3, 2.5, 5. , 1.9],\n",
              "       [6.5, 3. , 5.2, 2. ],\n",
              "       [6.2, 3.4, 5.4, 2.3],\n",
              "       [5.9, 3. , 5.1, 1.8]])"
            ]
          },
          "metadata": {
            "tags": []
          },
          "execution_count": 40
        }
      ]
    },
    {
      "cell_type": "code",
      "metadata": {
        "colab": {
          "base_uri": "https://localhost:8080/"
        },
        "id": "1cOklRXAD-JB",
        "outputId": "255bfa27-e01e-4626-ff95-59ab58634ff6"
      },
      "source": [
        "Y"
      ],
      "execution_count": null,
      "outputs": [
        {
          "output_type": "execute_result",
          "data": {
            "text/plain": [
              "array(['Risco_Alto', 'Risco_Alto', 'Risco_Alto', 'Risco_Alto',\n",
              "       'Risco_Alto', 'Risco_Alto', 'Risco_Alto', 'Risco_Alto',\n",
              "       'Risco_Alto', 'Risco_Alto', 'Risco_Alto', 'Risco_Alto',\n",
              "       'Risco_Alto', 'Risco_Alto', 'Risco_Alto', 'Risco_Alto',\n",
              "       'Risco_Alto', 'Risco_Alto', 'Risco_Alto', 'Risco_Alto',\n",
              "       'Risco_Alto', 'Risco_Alto', 'Risco_Alto', 'Risco_Alto',\n",
              "       'Risco_Alto', 'Risco_Alto', 'Risco_Alto', 'Risco_Alto',\n",
              "       'Risco_Alto', 'Risco_Alto', 'Risco_Alto', 'Risco_Alto',\n",
              "       'Risco_Alto', 'Risco_Alto', 'Risco_Alto', 'Risco_Alto',\n",
              "       'Risco_Alto', 'Risco_Alto', 'Risco_Alto', 'Risco_Alto',\n",
              "       'Risco_Alto', 'Risco_Alto', 'Risco_Alto', 'Risco_Alto',\n",
              "       'Risco_Alto', 'Risco_Alto', 'Risco_Alto', 'Risco_Alto',\n",
              "       'Risco_Alto', 'Risco_Alto', 'Risco_Medio', 'Risco_Medio',\n",
              "       'Risco_Medio', 'Risco_Medio', 'Risco_Medio', 'Risco_Medio',\n",
              "       'Risco_Medio', 'Risco_Medio', 'Risco_Medio', 'Risco_Medio',\n",
              "       'Risco_Medio', 'Risco_Medio', 'Risco_Medio', 'Risco_Medio',\n",
              "       'Risco_Medio', 'Risco_Medio', 'Risco_Medio', 'Risco_Medio',\n",
              "       'Risco_Medio', 'Risco_Medio', 'Risco_Medio', 'Risco_Medio',\n",
              "       'Risco_Medio', 'Risco_Medio', 'Risco_Medio', 'Risco_Medio',\n",
              "       'Risco_Medio', 'Risco_Medio', 'Risco_Medio', 'Risco_Medio',\n",
              "       'Risco_Medio', 'Risco_Medio', 'Risco_Medio', 'Risco_Medio',\n",
              "       'Risco_Medio', 'Risco_Medio', 'Risco_Medio', 'Risco_Medio',\n",
              "       'Risco_Medio', 'Risco_Medio', 'Risco_Medio', 'Risco_Medio',\n",
              "       'Risco_Medio', 'Risco_Medio', 'Risco_Medio', 'Risco_Medio',\n",
              "       'Risco_Medio', 'Risco_Medio', 'Risco_Medio', 'Risco_Medio',\n",
              "       'Risco_Baixo', 'Risco_Baixo', 'Risco_Baixo', 'Risco_Baixo',\n",
              "       'Risco_Baixo', 'Risco_Baixo', 'Risco_Baixo', 'Risco_Baixo',\n",
              "       'Risco_Baixo', 'Risco_Baixo', 'Risco_Baixo', 'Risco_Baixo',\n",
              "       'Risco_Baixo', 'Risco_Baixo', 'Risco_Baixo', 'Risco_Baixo',\n",
              "       'Risco_Baixo', 'Risco_Baixo', 'Risco_Baixo', 'Risco_Baixo',\n",
              "       'Risco_Baixo', 'Risco_Baixo', 'Risco_Baixo', 'Risco_Baixo',\n",
              "       'Risco_Baixo', 'Risco_Baixo', 'Risco_Baixo', 'Risco_Baixo',\n",
              "       'Risco_Baixo', 'Risco_Baixo', 'Risco_Baixo', 'Risco_Baixo',\n",
              "       'Risco_Baixo', 'Risco_Baixo', 'Risco_Baixo', 'Risco_Baixo',\n",
              "       'Risco_Baixo', 'Risco_Baixo', 'Risco_Baixo', 'Risco_Baixo',\n",
              "       'Risco_Baixo', 'Risco_Baixo', 'Risco_Baixo', 'Risco_Baixo',\n",
              "       'Risco_Baixo', 'Risco_Baixo', 'Risco_Baixo', 'Risco_Baixo',\n",
              "       'Risco_Baixo', 'Risco_Baixo'], dtype=object)"
            ]
          },
          "metadata": {
            "tags": []
          },
          "execution_count": 41
        }
      ]
    },
    {
      "cell_type": "markdown",
      "metadata": {
        "id": "bXIqE9IqEDM0"
      },
      "source": [
        "**Separando os dados entre Treino e Teste**"
      ]
    },
    {
      "cell_type": "code",
      "metadata": {
        "id": "QtxNv2sPEEuR"
      },
      "source": [
        "X_train, X_test, Y_train, Y_test = train_test_split(X, Y, test_size=0.2, random_state = 7) "
      ],
      "execution_count": null,
      "outputs": []
    },
    {
      "cell_type": "code",
      "metadata": {
        "colab": {
          "base_uri": "https://localhost:8080/"
        },
        "id": "d6rhbaCSFlqq",
        "outputId": "23906aa0-7515-489b-f578-5e71eff4347e"
      },
      "source": [
        "print(\"Dados de Treino :\\n----------------\\n\")\n",
        "print(\"X = \\n\", X_train[:2])\n",
        "print(\"Y = \\n\", Y_train[:2])\n",
        "\n",
        "print(\"Dados de Teste :\\n---------------------\\n\")\n",
        "print(\"X = \\n\", X_test[:2])\n",
        "print(\"Y = \\n\", Y_test[:2])"
      ],
      "execution_count": null,
      "outputs": [
        {
          "output_type": "stream",
          "text": [
            "Dados de Treino :\n",
            "----------------\n",
            "\n",
            "X = \n",
            " [[6.2 2.8 4.8 1.8]\n",
            " [5.7 2.6 3.5 1. ]]\n",
            "Y = \n",
            " ['Risco_Baixo' 'Risco_Medio']\n",
            "Dados de Teste :\n",
            "---------------------\n",
            "\n",
            "X = \n",
            " [[5.9 3.  5.1 1.8]\n",
            " [5.4 3.  4.5 1.5]]\n",
            "Y = \n",
            " ['Risco_Baixo' 'Risco_Medio']\n"
          ],
          "name": "stdout"
        }
      ]
    },
    {
      "cell_type": "code",
      "metadata": {
        "colab": {
          "base_uri": "https://localhost:8080/"
        },
        "id": "b8as2i9vGniF",
        "outputId": "300531ca-a65c-445b-ca1d-9683a5ee0e91"
      },
      "source": [
        "print(f\"Shape dos dados de treino é {X_train.shape}\")\n",
        "print(f\"Shape dos dados de teste é {X_test.shape}\")"
      ],
      "execution_count": null,
      "outputs": [
        {
          "output_type": "stream",
          "text": [
            "Shape dos dados de treino é (120, 4)\n",
            "Shape dos dados de teste é (30, 4)\n"
          ],
          "name": "stdout"
        }
      ]
    },
    {
      "cell_type": "markdown",
      "metadata": {
        "id": "YZvv_ZEBGu1M"
      },
      "source": [
        "Padronizando as Features - As variáveis explicativas (variáveis de entrada)"
      ]
    },
    {
      "cell_type": "code",
      "metadata": {
        "id": "8f4i3AXWGn_Z"
      },
      "source": [
        "from sklearn.preprocessing import StandardScaler\n",
        "sc= StandardScaler()"
      ],
      "execution_count": null,
      "outputs": []
    },
    {
      "cell_type": "code",
      "metadata": {
        "id": "WWSuPyxIGvux"
      },
      "source": [
        "X_train = sc.fit_transform(X_train)\n",
        "X_test = sc.transform(X_test)"
      ],
      "execution_count": null,
      "outputs": []
    },
    {
      "cell_type": "code",
      "metadata": {
        "colab": {
          "base_uri": "https://localhost:8080/"
        },
        "id": "z3hBC4U0HZXR",
        "outputId": "ab5d7615-95f3-4601-c669-073a59238e5e"
      },
      "source": [
        "print(\"\\n--------------------------------\\nDataset depois da padronização:\\n--------------------------------\\n\", )\n",
        "\n",
        "print(\"\\nX_train :\\n\", X_train[:5])\n",
        "print(\"-------------------------\")\n",
        "print(\"\\nX_test :\\n\", X_test[:5])"
      ],
      "execution_count": null,
      "outputs": [
        {
          "output_type": "stream",
          "text": [
            "\n",
            "--------------------------------\n",
            "Dataset depois da padronização:\n",
            "--------------------------------\n",
            "\n",
            "\n",
            "X_train :\n",
            " [[ 0.43325894 -0.59653573  0.62601116  0.82081788]\n",
            " [-0.15754871 -1.05688485 -0.09737951 -0.21464226]\n",
            " [-1.45732553  1.24486074 -1.48851543 -1.2501024 ]\n",
            " [ 1.26038965  0.09398794  0.95988378  1.20911544]\n",
            " [ 0.669582   -0.36636117  0.34778398  0.17365529]]\n",
            "-------------------------\n",
            "\n",
            "X_test :\n",
            " [[ 0.07877435 -0.13618661  0.79294747  0.82081788]\n",
            " [-0.51203329 -0.13618661  0.45907485  0.43252033]\n",
            " [-0.98467941  1.01468618 -1.32157912 -1.12066988]\n",
            " [-0.27571024 -0.13618661  0.45907485  0.43252033]\n",
            " [-1.10284094 -1.28705941  0.45907485  0.69138537]]\n"
          ],
          "name": "stdout"
        }
      ]
    },
    {
      "cell_type": "markdown",
      "metadata": {
        "id": "SHyKa9YcHrTi"
      },
      "source": [
        "**CONSTRUINDO UMA MÁQUINA PREDITIVA**"
      ]
    },
    {
      "cell_type": "markdown",
      "metadata": {
        "id": "5xnlnnFvKJ_F"
      },
      "source": [
        "Versão da Máquina Preditiva: Criando um baseline"
      ]
    },
    {
      "cell_type": "code",
      "metadata": {
        "id": "CCRDi_gjJToh"
      },
      "source": [
        "from sklearn.neighbors import KNeighborsClassifier\n",
        "Maquina_Preditiva = KNeighborsClassifier(n_neighbors=30)"
      ],
      "execution_count": null,
      "outputs": []
    },
    {
      "cell_type": "markdown",
      "metadata": {
        "id": "5r6V-mIxK2jl"
      },
      "source": [
        "Treinando a Máquina preditiva com os dados de treino"
      ]
    },
    {
      "cell_type": "code",
      "metadata": {
        "id": "juKJs2KPKsIQ"
      },
      "source": [
        "Maquina_Preditiva = Maquina_Preditiva.fit(X_train, Y_train)"
      ],
      "execution_count": null,
      "outputs": []
    },
    {
      "cell_type": "markdown",
      "metadata": {
        "id": "6DPDBtvqLMeM"
      },
      "source": [
        "Fazendo novas Previsões com os dados de teste"
      ]
    },
    {
      "cell_type": "code",
      "metadata": {
        "id": "TBqErJKkK3Qh"
      },
      "source": [
        "Y_pred = Maquina_Preditiva.predict(X_test)"
      ],
      "execution_count": null,
      "outputs": []
    },
    {
      "cell_type": "code",
      "metadata": {
        "colab": {
          "base_uri": "https://localhost:8080/"
        },
        "id": "xI1z4zr6LNT5",
        "outputId": "e3598ffe-5fa6-449f-93e4-135abaf33247"
      },
      "source": [
        "print('\\n---------------------------\\n')\n",
        "print('Valores reais com dados teste :\\n', Y_test)\n",
        "\n",
        "print('\\n---------------------------\\n')\n",
        "print('Valores preditos com a Maquina Preditiva com dados teste :\\n', Y_pred)"
      ],
      "execution_count": null,
      "outputs": [
        {
          "output_type": "stream",
          "text": [
            "\n",
            "---------------------------\n",
            "\n",
            "Valores reais com dados teste :\n",
            " ['Risco_Baixo' 'Risco_Medio' 'Risco_Alto' 'Risco_Medio' 'Risco_Baixo'\n",
            " 'Risco_Alto' 'Risco_Medio' 'Risco_Medio' 'Risco_Alto' 'Risco_Medio'\n",
            " 'Risco_Medio' 'Risco_Medio' 'Risco_Alto' 'Risco_Baixo' 'Risco_Alto'\n",
            " 'Risco_Medio' 'Risco_Baixo' 'Risco_Baixo' 'Risco_Alto' 'Risco_Alto'\n",
            " 'Risco_Medio' 'Risco_Baixo' 'Risco_Medio' 'Risco_Baixo' 'Risco_Baixo'\n",
            " 'Risco_Baixo' 'Risco_Medio' 'Risco_Medio' 'Risco_Baixo' 'Risco_Baixo']\n",
            "\n",
            "---------------------------\n",
            "\n",
            "Valores preditos com a Maquina Preditiva com dados teste :\n",
            " ['Risco_Baixo' 'Risco_Medio' 'Risco_Alto' 'Risco_Medio' 'Risco_Medio'\n",
            " 'Risco_Alto' 'Risco_Baixo' 'Risco_Medio' 'Risco_Alto' 'Risco_Medio'\n",
            " 'Risco_Baixo' 'Risco_Medio' 'Risco_Alto' 'Risco_Baixo' 'Risco_Alto'\n",
            " 'Risco_Baixo' 'Risco_Baixo' 'Risco_Baixo' 'Risco_Alto' 'Risco_Alto'\n",
            " 'Risco_Medio' 'Risco_Baixo' 'Risco_Medio' 'Risco_Medio' 'Risco_Baixo'\n",
            " 'Risco_Medio' 'Risco_Medio' 'Risco_Medio' 'Risco_Baixo' 'Risco_Baixo']\n"
          ],
          "name": "stdout"
        }
      ]
    },
    {
      "cell_type": "code",
      "metadata": {
        "id": "MmnxVn5mMRxL"
      },
      "source": [
        ""
      ],
      "execution_count": null,
      "outputs": []
    },
    {
      "cell_type": "markdown",
      "metadata": {
        "id": "Xa2-NJYKMbF-"
      },
      "source": [
        "Função que mostra os hyperparâmetros utilizados na construção da Máquina Preditiva "
      ]
    },
    {
      "cell_type": "code",
      "metadata": {
        "colab": {
          "base_uri": "https://localhost:8080/"
        },
        "id": "GoAWpvhAMbqS",
        "outputId": "b8c4101c-2d63-45cf-a295-c9a07fceaf7d"
      },
      "source": [
        "Maquina_Preditiva.get_params"
      ],
      "execution_count": null,
      "outputs": [
        {
          "output_type": "execute_result",
          "data": {
            "text/plain": [
              "<bound method BaseEstimator.get_params of KNeighborsClassifier(algorithm='auto', leaf_size=30, metric='minkowski',\n",
              "                     metric_params=None, n_jobs=None, n_neighbors=30, p=2,\n",
              "                     weights='uniform')>"
            ]
          },
          "metadata": {
            "tags": []
          },
          "execution_count": 80
        }
      ]
    },
    {
      "cell_type": "markdown",
      "metadata": {
        "id": "wbw1qpFOMjXk"
      },
      "source": [
        "**AVALIANDO A MÁQUINA PREDITIVA**"
      ]
    },
    {
      "cell_type": "markdown",
      "metadata": {
        "id": "fi7SUi2_Msg1"
      },
      "source": [
        "Calculando a Acurácia:"
      ]
    },
    {
      "cell_type": "code",
      "metadata": {
        "id": "y3-G7nXmMo5i"
      },
      "source": [
        "from sklearn import metrics"
      ],
      "execution_count": null,
      "outputs": []
    },
    {
      "cell_type": "code",
      "metadata": {
        "colab": {
          "base_uri": "https://localhost:8080/"
        },
        "id": "SrFlqGtoMtOa",
        "outputId": "51ab384d-35a4-4949-f3dc-8191fca713ba"
      },
      "source": [
        "print('Acurácia da Máquina =', metrics.accuracy_score(Y_test, Y_pred)*100)"
      ],
      "execution_count": null,
      "outputs": [
        {
          "output_type": "stream",
          "text": [
            "Acurácia da Máquina = 80.0\n"
          ],
          "name": "stdout"
        }
      ]
    },
    {
      "cell_type": "markdown",
      "metadata": {
        "id": "AJlFoTIKNOmI"
      },
      "source": [
        "Comparando Real e Predito com dados de Teste"
      ]
    },
    {
      "cell_type": "code",
      "metadata": {
        "colab": {
          "base_uri": "https://localhost:8080/",
          "height": 272
        },
        "id": "0YGj6huANPFC",
        "outputId": "7e87723f-3fa6-4fa7-9c36-7ff82da5cb84"
      },
      "source": [
        "print('\\nReal vs Predito \\n-----------\\n')\n",
        "error_df = pd.DataFrame({'Real': Y_test,\n",
        "                         'Predito': Y_pred})\n",
        "\n",
        "error_df.head(5)"
      ],
      "execution_count": null,
      "outputs": [
        {
          "output_type": "stream",
          "text": [
            "\n",
            "Real vs Predito \n",
            "-----------\n",
            "\n"
          ],
          "name": "stdout"
        },
        {
          "output_type": "execute_result",
          "data": {
            "text/html": [
              "<div>\n",
              "<style scoped>\n",
              "    .dataframe tbody tr th:only-of-type {\n",
              "        vertical-align: middle;\n",
              "    }\n",
              "\n",
              "    .dataframe tbody tr th {\n",
              "        vertical-align: top;\n",
              "    }\n",
              "\n",
              "    .dataframe thead th {\n",
              "        text-align: right;\n",
              "    }\n",
              "</style>\n",
              "<table border=\"1\" class=\"dataframe\">\n",
              "  <thead>\n",
              "    <tr style=\"text-align: right;\">\n",
              "      <th></th>\n",
              "      <th>Real</th>\n",
              "      <th>Predito</th>\n",
              "    </tr>\n",
              "  </thead>\n",
              "  <tbody>\n",
              "    <tr>\n",
              "      <th>0</th>\n",
              "      <td>Risco_Baixo</td>\n",
              "      <td>Risco_Baixo</td>\n",
              "    </tr>\n",
              "    <tr>\n",
              "      <th>1</th>\n",
              "      <td>Risco_Medio</td>\n",
              "      <td>Risco_Medio</td>\n",
              "    </tr>\n",
              "    <tr>\n",
              "      <th>2</th>\n",
              "      <td>Risco_Alto</td>\n",
              "      <td>Risco_Alto</td>\n",
              "    </tr>\n",
              "    <tr>\n",
              "      <th>3</th>\n",
              "      <td>Risco_Medio</td>\n",
              "      <td>Risco_Medio</td>\n",
              "    </tr>\n",
              "    <tr>\n",
              "      <th>4</th>\n",
              "      <td>Risco_Baixo</td>\n",
              "      <td>Risco_Medio</td>\n",
              "    </tr>\n",
              "  </tbody>\n",
              "</table>\n",
              "</div>"
            ],
            "text/plain": [
              "          Real      Predito\n",
              "0  Risco_Baixo  Risco_Baixo\n",
              "1  Risco_Medio  Risco_Medio\n",
              "2   Risco_Alto   Risco_Alto\n",
              "3  Risco_Medio  Risco_Medio\n",
              "4  Risco_Baixo  Risco_Medio"
            ]
          },
          "metadata": {
            "tags": []
          },
          "execution_count": 84
        }
      ]
    },
    {
      "cell_type": "markdown",
      "metadata": {
        "id": "X4A0ElkXOStO"
      },
      "source": [
        "Usando a confusion matrix  e o classification report para avaliar a acurácia e demais indicadores"
      ]
    },
    {
      "cell_type": "code",
      "metadata": {
        "colab": {
          "base_uri": "https://localhost:8080/"
        },
        "id": "ZTc6CagdN1wZ",
        "outputId": "e00f72d4-17b7-45ca-ba90-047bdcbae5e0"
      },
      "source": [
        "from sklearn.metrics import confusion_matrix, classification_report\n",
        "from sklearn import metrics\n",
        "\n",
        "print('Acurácia da Máquina =', metrics.accuracy_score(Y_test, Y_pred)*100)\n",
        "cm = confusion_matrix(Y_test,Y_pred)\n",
        "cr = classification_report(Y_test, Y_pred)\n",
        "print(cm)\n",
        "print(cr)"
      ],
      "execution_count": null,
      "outputs": [
        {
          "output_type": "stream",
          "text": [
            "Acurácia da Máquina = 80.0\n",
            "[[7 0 0]\n",
            " [0 8 3]\n",
            " [0 3 9]]\n",
            "              precision    recall  f1-score   support\n",
            "\n",
            "  Risco_Alto       1.00      1.00      1.00         7\n",
            " Risco_Baixo       0.73      0.73      0.73        11\n",
            " Risco_Medio       0.75      0.75      0.75        12\n",
            "\n",
            "    accuracy                           0.80        30\n",
            "   macro avg       0.83      0.83      0.83        30\n",
            "weighted avg       0.80      0.80      0.80        30\n",
            "\n"
          ],
          "name": "stdout"
        }
      ]
    },
    {
      "cell_type": "markdown",
      "metadata": {
        "id": "FzPYOKwDZr4a"
      },
      "source": [
        "## **2° Versão da Máquina Preditiva: Máquina Definitiva**"
      ]
    },
    {
      "cell_type": "markdown",
      "metadata": {
        "id": "eSGicQOPZ4oB"
      },
      "source": [
        "Importando a bilblioteca do SVM - Support Vector Machines\n"
      ]
    },
    {
      "cell_type": "code",
      "metadata": {
        "id": "ZFvEbrg4ZtVP"
      },
      "source": [
        "from sklearn.svm import SVC\n",
        "classifier = SVC(kernel='linear',            \n",
        "                 gamma= 1e-5  ,              \n",
        "                 C=10,                       \n",
        "                 random_state=7)"
      ],
      "execution_count": null,
      "outputs": []
    },
    {
      "cell_type": "markdown",
      "metadata": {
        "id": "iPfY8PDJb_By"
      },
      "source": [
        "Treinando a Máquina com o SVC"
      ]
    },
    {
      "cell_type": "code",
      "metadata": {
        "colab": {
          "base_uri": "https://localhost:8080/"
        },
        "id": "d-7zW9REacbR",
        "outputId": "da362284-b91d-4140-efe8-1fc1c43fbf90"
      },
      "source": [
        "classifier.fit(X_train, Y_train)"
      ],
      "execution_count": null,
      "outputs": [
        {
          "output_type": "execute_result",
          "data": {
            "text/plain": [
              "SVC(C=10, break_ties=False, cache_size=200, class_weight=None, coef0=0.0,\n",
              "    decision_function_shape='ovr', degree=3, gamma=1e-05, kernel='linear',\n",
              "    max_iter=-1, probability=False, random_state=7, shrinking=True, tol=0.001,\n",
              "    verbose=False)"
            ]
          },
          "metadata": {
            "tags": []
          },
          "execution_count": 103
        }
      ]
    },
    {
      "cell_type": "markdown",
      "metadata": {
        "id": "zk6VYFJ3cLGR"
      },
      "source": [
        "Fazendo novas previsões com os dados de teste"
      ]
    },
    {
      "cell_type": "code",
      "metadata": {
        "id": "tB2npGxecHv-"
      },
      "source": [
        "Y_pred= classifier.predict(X_test)"
      ],
      "execution_count": null,
      "outputs": []
    },
    {
      "cell_type": "code",
      "metadata": {
        "colab": {
          "base_uri": "https://localhost:8080/"
        },
        "id": "pgyWfrMqcLgt",
        "outputId": "ed5d46b3-1adb-4b49-a846-0aa693553aae"
      },
      "source": [
        "print(\"\\n---------------------------\\n\")\n",
        "print(\"Predicted Values for Test Set :\\n\", Y_pred)\n",
        "print(\"\\n---------------------------\\n\")\n",
        "print(\"Actual Values for Test Set :\\n\", Y_test)"
      ],
      "execution_count": null,
      "outputs": [
        {
          "output_type": "stream",
          "text": [
            "\n",
            "---------------------------\n",
            "\n",
            "Predicted Values for Test Set :\n",
            " ['Risco_Baixo' 'Risco_Medio' 'Risco_Alto' 'Risco_Medio' 'Risco_Baixo'\n",
            " 'Risco_Alto' 'Risco_Medio' 'Risco_Medio' 'Risco_Alto' 'Risco_Medio'\n",
            " 'Risco_Baixo' 'Risco_Medio' 'Risco_Alto' 'Risco_Baixo' 'Risco_Alto'\n",
            " 'Risco_Baixo' 'Risco_Baixo' 'Risco_Baixo' 'Risco_Alto' 'Risco_Alto'\n",
            " 'Risco_Medio' 'Risco_Baixo' 'Risco_Medio' 'Risco_Baixo' 'Risco_Baixo'\n",
            " 'Risco_Baixo' 'Risco_Medio' 'Risco_Medio' 'Risco_Baixo' 'Risco_Baixo']\n",
            "\n",
            "---------------------------\n",
            "\n",
            "Actual Values for Test Set :\n",
            " ['Risco_Baixo' 'Risco_Medio' 'Risco_Alto' 'Risco_Medio' 'Risco_Baixo'\n",
            " 'Risco_Alto' 'Risco_Medio' 'Risco_Medio' 'Risco_Alto' 'Risco_Medio'\n",
            " 'Risco_Medio' 'Risco_Medio' 'Risco_Alto' 'Risco_Baixo' 'Risco_Alto'\n",
            " 'Risco_Medio' 'Risco_Baixo' 'Risco_Baixo' 'Risco_Alto' 'Risco_Alto'\n",
            " 'Risco_Medio' 'Risco_Baixo' 'Risco_Medio' 'Risco_Baixo' 'Risco_Baixo'\n",
            " 'Risco_Baixo' 'Risco_Medio' 'Risco_Medio' 'Risco_Baixo' 'Risco_Baixo']\n"
          ],
          "name": "stdout"
        }
      ]
    },
    {
      "cell_type": "markdown",
      "metadata": {
        "id": "61U0WVSjcynQ"
      },
      "source": [
        "Imprimindo os hyperparâmetros utilizados na criação da Maquina Preditiva Definitiva"
      ]
    },
    {
      "cell_type": "code",
      "metadata": {
        "colab": {
          "base_uri": "https://localhost:8080/"
        },
        "id": "xXRPHNaJczP1",
        "outputId": "ae516806-d8e8-497f-ee93-aa55d389cbcb"
      },
      "source": [
        "classifier"
      ],
      "execution_count": null,
      "outputs": [
        {
          "output_type": "execute_result",
          "data": {
            "text/plain": [
              "SVC(C=10, break_ties=False, cache_size=200, class_weight=None, coef0=0.0,\n",
              "    decision_function_shape='ovr', degree=3, gamma=1e-05, kernel='linear',\n",
              "    max_iter=-1, probability=False, random_state=7, shrinking=True, tol=0.001,\n",
              "    verbose=False)"
            ]
          },
          "metadata": {
            "tags": []
          },
          "execution_count": 109
        }
      ]
    },
    {
      "cell_type": "markdown",
      "metadata": {
        "id": "m6Ui0x2HdGfK"
      },
      "source": [
        "Calculando a Acurácia da Máquina Preditiva\n"
      ]
    },
    {
      "cell_type": "code",
      "metadata": {
        "colab": {
          "base_uri": "https://localhost:8080/"
        },
        "id": "7F4AgqpNc481",
        "outputId": "754a7a06-9839-4946-9d1e-a8841a0b7e96"
      },
      "source": [
        "from sklearn import metrics\n",
        "print(\"Prediction Accuracy = \", metrics.accuracy_score(Y_test, Y_pred))"
      ],
      "execution_count": null,
      "outputs": [
        {
          "output_type": "stream",
          "text": [
            "Prediction Accuracy =  0.9333333333333333\n"
          ],
          "name": "stdout"
        }
      ]
    },
    {
      "cell_type": "markdown",
      "metadata": {
        "id": "yPHDWHJWdUzx"
      },
      "source": [
        "Comparando valores Reais com Preditos pela Máquina"
      ]
    },
    {
      "cell_type": "code",
      "metadata": {
        "colab": {
          "base_uri": "https://localhost:8080/",
          "height": 272
        },
        "id": "hGVghenbdHLd",
        "outputId": "2100a852-6d64-466f-cfa2-c484418fec4f"
      },
      "source": [
        "print(\"\\nActual vs Predicted  \\n------------------------------\\n\")\n",
        "error_df = pd.DataFrame({\"Actual\" : Y_test,\n",
        "                         \"Predicted\" : Y_pred})\n",
        "\n",
        "error_df.head(5)"
      ],
      "execution_count": null,
      "outputs": [
        {
          "output_type": "stream",
          "text": [
            "\n",
            "Actual vs Predicted  \n",
            "------------------------------\n",
            "\n"
          ],
          "name": "stdout"
        },
        {
          "output_type": "execute_result",
          "data": {
            "text/html": [
              "<div>\n",
              "<style scoped>\n",
              "    .dataframe tbody tr th:only-of-type {\n",
              "        vertical-align: middle;\n",
              "    }\n",
              "\n",
              "    .dataframe tbody tr th {\n",
              "        vertical-align: top;\n",
              "    }\n",
              "\n",
              "    .dataframe thead th {\n",
              "        text-align: right;\n",
              "    }\n",
              "</style>\n",
              "<table border=\"1\" class=\"dataframe\">\n",
              "  <thead>\n",
              "    <tr style=\"text-align: right;\">\n",
              "      <th></th>\n",
              "      <th>Actual</th>\n",
              "      <th>Predicted</th>\n",
              "    </tr>\n",
              "  </thead>\n",
              "  <tbody>\n",
              "    <tr>\n",
              "      <th>0</th>\n",
              "      <td>Risco_Baixo</td>\n",
              "      <td>Risco_Baixo</td>\n",
              "    </tr>\n",
              "    <tr>\n",
              "      <th>1</th>\n",
              "      <td>Risco_Medio</td>\n",
              "      <td>Risco_Medio</td>\n",
              "    </tr>\n",
              "    <tr>\n",
              "      <th>2</th>\n",
              "      <td>Risco_Alto</td>\n",
              "      <td>Risco_Alto</td>\n",
              "    </tr>\n",
              "    <tr>\n",
              "      <th>3</th>\n",
              "      <td>Risco_Medio</td>\n",
              "      <td>Risco_Medio</td>\n",
              "    </tr>\n",
              "    <tr>\n",
              "      <th>4</th>\n",
              "      <td>Risco_Baixo</td>\n",
              "      <td>Risco_Baixo</td>\n",
              "    </tr>\n",
              "  </tbody>\n",
              "</table>\n",
              "</div>"
            ],
            "text/plain": [
              "        Actual    Predicted\n",
              "0  Risco_Baixo  Risco_Baixo\n",
              "1  Risco_Medio  Risco_Medio\n",
              "2   Risco_Alto   Risco_Alto\n",
              "3  Risco_Medio  Risco_Medio\n",
              "4  Risco_Baixo  Risco_Baixo"
            ]
          },
          "metadata": {
            "tags": []
          },
          "execution_count": 112
        }
      ]
    },
    {
      "cell_type": "markdown",
      "metadata": {
        "id": "KLSjkthgdqIS"
      },
      "source": [
        "Usando a confusion matrix e o classification report para avaliar a Máquina"
      ]
    },
    {
      "cell_type": "code",
      "metadata": {
        "id": "HJDq7NVNdVTV"
      },
      "source": [
        "from sklearn.metrics import confusion_matrix, classification_report\n",
        "\n",
        "cm = confusion_matrix(Y_test, Y_pred)\n",
        "cr = classification_report(Y_test, Y_pred)"
      ],
      "execution_count": null,
      "outputs": []
    },
    {
      "cell_type": "markdown",
      "metadata": {
        "id": "oQOQ1qr0eCG6"
      },
      "source": [
        "Imprimindo a Confusion Matrix e o Classification Report"
      ]
    },
    {
      "cell_type": "code",
      "metadata": {
        "colab": {
          "base_uri": "https://localhost:8080/"
        },
        "id": "GQr989BjdqeV",
        "outputId": "71b54b33-a79b-43f3-d7e3-d1d0b45514b7"
      },
      "source": [
        "print(cm)\n",
        "print(cr)"
      ],
      "execution_count": null,
      "outputs": [
        {
          "output_type": "stream",
          "text": [
            "[[ 7  0  0]\n",
            " [ 0 11  0]\n",
            " [ 0  2 10]]\n",
            "              precision    recall  f1-score   support\n",
            "\n",
            "  Risco_Alto       1.00      1.00      1.00         7\n",
            " Risco_Baixo       0.85      1.00      0.92        11\n",
            " Risco_Medio       1.00      0.83      0.91        12\n",
            "\n",
            "    accuracy                           0.93        30\n",
            "   macro avg       0.95      0.94      0.94        30\n",
            "weighted avg       0.94      0.93      0.93        30\n",
            "\n"
          ],
          "name": "stdout"
        }
      ]
    }
  ]
}